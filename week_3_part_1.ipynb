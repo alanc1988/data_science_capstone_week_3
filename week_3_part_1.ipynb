{
 "cells": [
  {
   "cell_type": "markdown",
   "metadata": {},
   "source": [
    "# Segmenting and Clustering Neighbourhoods in Toronto"
   ]
  },
  {
   "cell_type": "code",
   "execution_count": 159,
   "metadata": {},
   "outputs": [
    {
     "name": "stdout",
     "output_type": "stream",
     "text": [
      "Libraries imported.\n"
     ]
    }
   ],
   "source": [
    "# Importing libraries\n",
    "\n",
    "import numpy as np # library to handle data in a vectorized manner\n",
    "\n",
    "import pandas as pd # library for data analsysis\n",
    "pd.set_option('display.max_columns', None)\n",
    "pd.set_option('display.max_rows', None)\n",
    "\n",
    "import json # library to handle JSON files\n",
    "\n",
    "#!conda install -c conda-forge geopy --yes # uncomment this line if you haven't completed the Foursquare API lab\n",
    "from geopy.geocoders import Nominatim # convert an address into latitude and longitude values\n",
    "\n",
    "import requests # library to handle requests\n",
    "from pandas.io.json import json_normalize # tranform JSON file into a pandas dataframe\n",
    "\n",
    "# Matplotlib and associated plotting modules\n",
    "import matplotlib.cm as cm\n",
    "import matplotlib.colors as colors\n",
    "\n",
    "# import k-means from clustering stage\n",
    "from sklearn.cluster import KMeans\n",
    "\n",
    "#!conda install -c conda-forge folium=0.5.0 --yes # uncomment this line if you haven't completed the Foursquare API lab\n",
    "import folium # map rendering library\n",
    "\n",
    "#!conda install --yes BeautifulSoup4\n",
    "from bs4 import BeautifulSoup\n",
    "\n",
    "print('Libraries imported.')"
   ]
  },
  {
   "cell_type": "markdown",
   "metadata": {},
   "source": [
    "## Part 1: Web Scraping"
   ]
  },
  {
   "cell_type": "code",
   "execution_count": 160,
   "metadata": {},
   "outputs": [
    {
     "name": "stdout",
     "output_type": "stream",
     "text": [
      "   PostalCode           Borough                                 Neighborhood\n",
      "2         M3A        North York                                    Parkwoods\n",
      "3         M4A        North York                             Victoria Village\n",
      "4         M5A  Downtown Toronto                    Regent Park, Harbourfront\n",
      "5         M6A        North York             Lawrence Manor, Lawrence Heights\n",
      "6         M7A  Downtown Toronto  Queen's Park, Ontario Provincial Government\n",
      "8         M9A         Etobicoke      Islington Avenue, Humber Valley Village\n",
      "9         M1B       Scarborough                               Malvern, Rouge\n",
      "11        M3B        North York                                    Don Mills\n",
      "12        M4B         East York              Parkview Hill, Woodbine Gardens\n",
      "13        M5B  Downtown Toronto                     Garden District, Ryerson\n",
      "(103, 3)\n"
     ]
    }
   ],
   "source": [
    "# Use the requests to download the data from Wikipedia\n",
    "website_data = requests.get('https://en.wikipedia.org/wiki/List_of_postal_codes_of_Canada:_M')\n",
    "\n",
    "# Use BeautifulSoup to parse the table, inspect source to get the relevant class\n",
    "soup = BeautifulSoup(website_data.text, 'html.parser')\n",
    "table = soup.find('table', attrs={'class':'wikitable sortable'})\n",
    "\n",
    "# 'table' is a table in HTML, let's parse this and turn this into a dataframe\n",
    "rows = table.findAll('tr')\n",
    "postal_code_list = []\n",
    "borough_list = []\n",
    "nhood_list = []\n",
    "\n",
    "for row in rows[1:]:\n",
    "    cols = row.find_all('td')\n",
    "    cols = [ele.text.strip() for ele in cols]\n",
    "    postal_code_list.append(cols[0])\n",
    "    borough_list.append(cols[1])\n",
    "    nhood_list.append(cols[2])    \n",
    "\n",
    "# The dataframe will consist of three columns: PostalCode, Borough, and Neighborhood\n",
    "\n",
    "df = pd.DataFrame({\n",
    "    'PostalCode':postal_code_list, \n",
    "    'Borough':borough_list, \n",
    "    'Neighborhood':nhood_list\n",
    "    })\n",
    "\n",
    "# Only process the cells that have an assigned borough. Ignore cells with a borough that is Not assigned.\n",
    "df = df.drop(df[(df.Borough == \"Not assigned\")].index)\n",
    "\n",
    "# Asof writing, a lot of the clean up tasks were already completed on the Wikipedia page, \n",
    "# e.g. Neighbourhood has been combined already, no 'Not assigned' neighbourhood remained after the deletion rule above\n",
    "\n",
    "print(df.head(10))\n",
    "print(df.shape)\n"
   ]
  }
 ],
 "metadata": {
  "kernelspec": {
   "display_name": "Python",
   "language": "python",
   "name": "conda-env-python-py"
  },
  "language_info": {
   "codemirror_mode": {
    "name": "ipython",
    "version": 3
   },
   "file_extension": ".py",
   "mimetype": "text/x-python",
   "name": "python",
   "nbconvert_exporter": "python",
   "pygments_lexer": "ipython3",
   "version": "3.6.12"
  }
 },
 "nbformat": 4,
 "nbformat_minor": 4
}
